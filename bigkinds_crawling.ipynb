{
 "cells": [
  {
   "cell_type": "code",
   "execution_count": 1,
   "metadata": {},
   "outputs": [
    {
     "name": "stdout",
     "output_type": "stream",
     "text": [
      "Requirement already satisfied: selenium in /Users/kimminsu/.pyenv/versions/3.12.4/lib/python3.12/site-packages (4.23.1)\n",
      "Requirement already satisfied: urllib3<3,>=1.26 in /Users/kimminsu/.pyenv/versions/3.12.4/lib/python3.12/site-packages (from urllib3[socks]<3,>=1.26->selenium) (2.2.2)\n",
      "Requirement already satisfied: trio~=0.17 in /Users/kimminsu/.pyenv/versions/3.12.4/lib/python3.12/site-packages (from selenium) (0.26.1)\n",
      "Requirement already satisfied: trio-websocket~=0.9 in /Users/kimminsu/.pyenv/versions/3.12.4/lib/python3.12/site-packages (from selenium) (0.11.1)\n",
      "Requirement already satisfied: certifi>=2021.10.8 in /Users/kimminsu/.pyenv/versions/3.12.4/lib/python3.12/site-packages (from selenium) (2024.8.30)\n",
      "Requirement already satisfied: typing_extensions~=4.9 in /Users/kimminsu/.pyenv/versions/3.12.4/lib/python3.12/site-packages (from selenium) (4.12.2)\n",
      "Requirement already satisfied: websocket-client~=1.8 in /Users/kimminsu/.pyenv/versions/3.12.4/lib/python3.12/site-packages (from selenium) (1.8.0)\n",
      "Requirement already satisfied: attrs>=23.2.0 in /Users/kimminsu/.pyenv/versions/3.12.4/lib/python3.12/site-packages (from trio~=0.17->selenium) (24.2.0)\n",
      "Requirement already satisfied: sortedcontainers in /Users/kimminsu/.pyenv/versions/3.12.4/lib/python3.12/site-packages (from trio~=0.17->selenium) (2.4.0)\n",
      "Requirement already satisfied: idna in /Users/kimminsu/.pyenv/versions/3.12.4/lib/python3.12/site-packages (from trio~=0.17->selenium) (3.8)\n",
      "Requirement already satisfied: outcome in /Users/kimminsu/.pyenv/versions/3.12.4/lib/python3.12/site-packages (from trio~=0.17->selenium) (1.3.0.post0)\n",
      "Requirement already satisfied: sniffio>=1.3.0 in /Users/kimminsu/.pyenv/versions/3.12.4/lib/python3.12/site-packages (from trio~=0.17->selenium) (1.3.1)\n",
      "Requirement already satisfied: wsproto>=0.14 in /Users/kimminsu/.pyenv/versions/3.12.4/lib/python3.12/site-packages (from trio-websocket~=0.9->selenium) (1.2.0)\n",
      "Requirement already satisfied: pysocks!=1.5.7,<2.0,>=1.5.6 in /Users/kimminsu/.pyenv/versions/3.12.4/lib/python3.12/site-packages (from urllib3[socks]<3,>=1.26->selenium) (1.7.1)\n",
      "Requirement already satisfied: h11<1,>=0.9.0 in /Users/kimminsu/.pyenv/versions/3.12.4/lib/python3.12/site-packages (from wsproto>=0.14->trio-websocket~=0.9->selenium) (0.14.0)\n",
      "\n",
      "\u001b[1m[\u001b[0m\u001b[34;49mnotice\u001b[0m\u001b[1;39;49m]\u001b[0m\u001b[39;49m A new release of pip is available: \u001b[0m\u001b[31;49m24.0\u001b[0m\u001b[39;49m -> \u001b[0m\u001b[32;49m24.2\u001b[0m\n",
      "\u001b[1m[\u001b[0m\u001b[34;49mnotice\u001b[0m\u001b[1;39;49m]\u001b[0m\u001b[39;49m To update, run: \u001b[0m\u001b[32;49mpip install --upgrade pip\u001b[0m\n"
     ]
    }
   ],
   "source": [
    "!pip install selenium"
   ]
  },
  {
   "cell_type": "code",
   "execution_count": 18,
   "metadata": {},
   "outputs": [
    {
     "name": "stdout",
     "output_type": "stream",
     "text": [
      "Title: 민주 안보상황점검위 \"北 진지한 대화 필요해\"\n",
      "Date: 2024-10-15\n",
      "Reporter: \n",
      "Content: 아시아투데이 김동욱 기자 = 더불어민주당 국가안보상황점검위원회가 15일 첫 회의를 열고 최근 오물풍선 살포와 무인기 침투 주장 등의 북한 도발과 관련해 대화를 해야 한다고 밝혔다. 위원회는 이날 국회에서 1차 회의를 열고 \"남북이 채널을 열고 (무인기 침투와 관련해) 오인과 오판이 없게끔 진지한 대화가 필요하다\"며 이같이 밝혔다. 위원회 위원장은 박지원 의원이 맡았으며, 간사로 위성락 의원, 자문위원 겸 위원으로 김병주 최고위원과 이인영 전 통일부 장관이 임명됐다. 국회 국방위원회 소속인 부승찬 민주당 의원은 이날 비공개 회의 후 취재진과 만나 \"전적으로 북한의 오물풍선부터 시작을 해 상당히 지저분한 도발을 하고 있는 것에 심각한 우려를 표한다는 얘기가 오갔다\"고 했다. 부 의원은 \"향후 '무인기 침투'와 관련 북한과의 마찰이 더 이상 없어야 한다\"며 \"국방부에서 적극적으로 대북 전단 살포에 대해서 유의해야 한다는 의견이 나왔다\"고 했다. 박선원 의원은 \"현재 정세가 심각하며 자칫 남북 간 상승 작용이 있을 수 있다고 우려했다\"며 \"누가, 무엇을, 어떻게 했느냐는 부분은 아직 판단할 시점이 아니다. 좀 더 신중하게 상황을 보고 있다\"고 했다. 이어 박 의원은 야당의 역할을 묻는 질문에는 \"민주당이 제1당, 책임 있는 수권정당으로서 방관자 일 수 없다\"고 답했다. 이와 관련해 부 의원은 \"상당한 위기 상항에서 민주당이 그 역할을 제대로 못 하면 공당으로서 의미가 없는 것\"이라고 강조했다.\n",
      "\n",
      "[아시아투데이 김동욱]\n",
      "\n",
      "Title: 침대 매트리스가 아래로 '쿵'…영국 여성 질식사\n",
      "Date: 2024-10-15\n",
      "Reporter: 이경호\n",
      "Content: 리프트업 침대 사용하던 영국 여성 질식사 매트리스 들어올리면 아래에 수납공간 있어 사고는 유압장치 고장 때문\n",
      "리프트업 침대를 사용하던 영국 여성이 매트리스가 갑자기 내려앉는 바람에 질식사한 사건이 발생했다.\n",
      "\n",
      "15일 CNN에 따르면 영국 북동부에 거주하며 미용실을 운영하던 39세의 헬렌 데이비는 지난 6월 리프트업 침대 아래 보관공간에 기대어 앉았다가 사망했다. 최근 지역 검시관은 그녀의 사망원인을 담은 보고서를 발표했는데 사망원인은 유압장치 고장으로 인한 질식사였다.\n",
      "\n",
      "리프트업 침대는 좌우측 프레임에 에어쇼바가 설치돼 매트리스를 들어올릴 수 있어 아래 공간에 침구류나 의류를 수납할 수 있다. 사고가 발생한 침대는 이케아의 오토만침대다. 이번 사고는 수납공간에 앉아있던 데이비가 유압장치 고장으로 침대 상단부가 떨어져 목이 끼면서 발생했다. 데이비가 침대를 들어올리려고 했지만 무게를 감당하지 못한 것으로 알려졌다.\n",
      "\n",
      "시신은 데이비의 딸이 발견했다. 딸은 \"위층으로 올라갔는데 엄마의 침실 문이 활짝 열려 있었고 엄마가 머리를 침대 밑에 넣은 채 등을 대고 누워 있는 것을 보았다\"면서 \"침대 윗부분을 가까스로 들어올려 엄마를 꺼냈다. 하지만 엄마가 미동도 없었고 심폐소생술을 했지만 숨을 쉬지 않아 죽은 걸 확인했다\"고 전했다.\n",
      "\n",
      "현지 언론들은 리프트업 침대의 안전기준을 강화하는 등 사고예방을 위해 당국이 나서야 한다고 주문했다. 영국에서는 2022년 기준 147명이 침대에서 떨어져 사망했고, 18명이 데이비처럼 질식해 숨진 것으로 알려졌다.\n",
      "\n",
      "이경호 기자 gungho@asiae.co.kr\n",
      "\n",
      "Title: '성범죄자 취업제한' 점검 결과, 2개월 내 공개한다…시행령 개정\n",
      "Date: 2024-10-15\n",
      "Reporter: 박준이\n",
      "Content: 다음해 일괄→점검 2개월 내 공개로 신고포상금 기준에 '법원 소년부 송치' 추가 위법한 방법 수집한 증거 신고, 지급 거부\n",
      "여성가족부./김현민 기자 kimhyun81@\n",
      "성범죄자 취업이 제한되는 아동·청소년 관련기관 등의 점검·확인 결과가 점검 2개월 내 공개된다.\n",
      "\n",
      "여성가족부는 15일 국무회의에서 '아동·청소년의 성보호에 관한 법률 시행령' 개정안이 의결됐다고 밝혔다.\n",
      "\n",
      "시행령 개정안의 주요 내용은 성범죄로 취업제한 명령을 선고받은 자가 아동·청소년 관련기관 등에 취업·운영하고 있는지 등을 지자체, 교육청 등이 연 1회 이상 점검·확인하고 그 결과를 2개월 이내에 해당 기관의 누리집에 공개하도록 하는 것이다.\n",
      "\n",
      "해당 기관의 점검 결과를 종합해 다음해 2월에 여성가족부 성범죄알림e를 통해 일괄 공개하도록 하는 현행 시행령을 개선한 것이다. 개정된 시행령은 내년 1월1일부터 시행된다.\n",
      "\n",
      "성범죄자 아동·청소년 관련기관 등에의 취업제한 제도는 취업 전 취업하려는 자를 대상으로 사전 성범죄 경력을 조화한 후 범죄경력이 없는 경우 채용하고, 이후 매년 1회씩 취업 중인 자의 성범죄 경력을 조회하는 제도다.\n",
      "\n",
      "또 아동·청소년 대상 성범죄 신고포상금의 지급 기준을 신고된 사람이 현행 기소 또는 기소유예 처분을 받은 경우 이외에도 법원 소년부에 송치된 건에 대해서도 지급이 가능하도록 한다. 위법한 방법으로 수집한 증거로 신고한 경우에도 신고포상금 지급을 거부할 수 있도록 한다.\n",
      "\n",
      "조용수 권익증진국장 전담직무대리는 \"이번 시행령 개정으로 성범죄자 취업 제한 점검 결과를 지역주민이 보다 쉽게 알 수 있게 되었다\"며 \"여성가족부는 성범죄로부터 아동청소년 보호를 강화하기 위해 최선을 다하겠다\"고 밝혔다.\n",
      "\n",
      "박준이 기자 giver@asiae.co.kr\n",
      "\n",
      "Title: 설악권, 소 ‘럼피스킨병’ 추가 확산 방지 총력전\n",
      "Date: \n",
      "Reporter: \n",
      "Content: \n",
      "\n"
     ]
    },
    {
     "ename": "ElementNotInteractableException",
     "evalue": "Message: element not interactable\n  (Session info: chrome=129.0.6668.100)\nStacktrace:\n0   chromedriver                        0x0000000105284500 cxxbridge1$str$ptr + 1917112\n1   chromedriver                        0x000000010527c890 cxxbridge1$str$ptr + 1885256\n2   chromedriver                        0x0000000104e8c3a8 cxxbridge1$string$len + 89024\n3   chromedriver                        0x0000000104ed1838 cxxbridge1$string$len + 372816\n4   chromedriver                        0x0000000104ec727c cxxbridge1$string$len + 330388\n5   chromedriver                        0x0000000104ec6d18 cxxbridge1$string$len + 329008\n6   chromedriver                        0x0000000104f0ab7c cxxbridge1$string$len + 607124\n7   chromedriver                        0x0000000104ec5374 cxxbridge1$string$len + 322444\n8   chromedriver                        0x0000000104ec5fc4 cxxbridge1$string$len + 325596\n9   chromedriver                        0x000000010524bd2c cxxbridge1$str$ptr + 1685732\n10  chromedriver                        0x0000000105250530 cxxbridge1$str$ptr + 1704168\n11  chromedriver                        0x0000000105230e08 cxxbridge1$str$ptr + 1575360\n12  chromedriver                        0x0000000105250e00 cxxbridge1$str$ptr + 1706424\n13  chromedriver                        0x0000000105221f94 cxxbridge1$str$ptr + 1514316\n14  chromedriver                        0x000000010526d62c cxxbridge1$str$ptr + 1823204\n15  chromedriver                        0x000000010526d7ac cxxbridge1$str$ptr + 1823588\n16  chromedriver                        0x000000010527c530 cxxbridge1$str$ptr + 1884392\n17  libsystem_pthread.dylib             0x000000019fffb2e4 _pthread_start + 136\n18  libsystem_pthread.dylib             0x000000019fff60fc thread_start + 8\n",
     "output_type": "error",
     "traceback": [
      "\u001b[0;31m---------------------------------------------------------------------------\u001b[0m",
      "\u001b[0;31mElementNotInteractableException\u001b[0m           Traceback (most recent call last)",
      "Cell \u001b[0;32mIn[18], line 36\u001b[0m\n\u001b[1;32m     33\u001b[0m \u001b[38;5;28mprint\u001b[39m(\u001b[38;5;124mf\u001b[39m\u001b[38;5;124m\"\u001b[39m\u001b[38;5;124mReporter: \u001b[39m\u001b[38;5;132;01m{\u001b[39;00mreporter_name\u001b[38;5;132;01m}\u001b[39;00m\u001b[38;5;124m\"\u001b[39m)\n\u001b[1;32m     34\u001b[0m \u001b[38;5;28mprint\u001b[39m(\u001b[38;5;124mf\u001b[39m\u001b[38;5;124m\"\u001b[39m\u001b[38;5;124mContent: \u001b[39m\u001b[38;5;132;01m{\u001b[39;00mnews_content\u001b[38;5;132;01m}\u001b[39;00m\u001b[38;5;130;01m\\n\u001b[39;00m\u001b[38;5;124m\"\u001b[39m)\n\u001b[0;32m---> 36\u001b[0m \u001b[43mdriver\u001b[49m\u001b[38;5;241;43m.\u001b[39;49m\u001b[43mfind_element\u001b[49m\u001b[43m(\u001b[49m\u001b[43mBy\u001b[49m\u001b[38;5;241;43m.\u001b[39;49m\u001b[43mCSS_SELECTOR\u001b[49m\u001b[43m,\u001b[49m\u001b[43m \u001b[49m\u001b[38;5;124;43m'\u001b[39;49m\u001b[38;5;124;43m.btn.btn-round.btn-wh\u001b[39;49m\u001b[38;5;124;43m'\u001b[39;49m\u001b[43m)\u001b[49m\u001b[38;5;241;43m.\u001b[39;49m\u001b[43mclick\u001b[49m\u001b[43m(\u001b[49m\u001b[43m)\u001b[49m\n\u001b[1;32m     38\u001b[0m \u001b[38;5;66;03m# 다시 최신뉴스 목록으로 돌아가기\u001b[39;00m\n\u001b[1;32m     39\u001b[0m driver\u001b[38;5;241m.\u001b[39mexecute_script(\u001b[38;5;124m\"\u001b[39m\u001b[38;5;124mwindow.scrollTo(0, 0);\u001b[39m\u001b[38;5;124m\"\u001b[39m)\n",
      "File \u001b[0;32m~/.pyenv/versions/3.12.4/lib/python3.12/site-packages/selenium/webdriver/remote/webelement.py:94\u001b[0m, in \u001b[0;36mWebElement.click\u001b[0;34m(self)\u001b[0m\n\u001b[1;32m     92\u001b[0m \u001b[38;5;28;01mdef\u001b[39;00m \u001b[38;5;21mclick\u001b[39m(\u001b[38;5;28mself\u001b[39m) \u001b[38;5;241m-\u001b[39m\u001b[38;5;241m>\u001b[39m \u001b[38;5;28;01mNone\u001b[39;00m:\n\u001b[1;32m     93\u001b[0m \u001b[38;5;250m    \u001b[39m\u001b[38;5;124;03m\"\"\"Clicks the element.\"\"\"\u001b[39;00m\n\u001b[0;32m---> 94\u001b[0m     \u001b[38;5;28;43mself\u001b[39;49m\u001b[38;5;241;43m.\u001b[39;49m\u001b[43m_execute\u001b[49m\u001b[43m(\u001b[49m\u001b[43mCommand\u001b[49m\u001b[38;5;241;43m.\u001b[39;49m\u001b[43mCLICK_ELEMENT\u001b[49m\u001b[43m)\u001b[49m\n",
      "File \u001b[0;32m~/.pyenv/versions/3.12.4/lib/python3.12/site-packages/selenium/webdriver/remote/webelement.py:395\u001b[0m, in \u001b[0;36mWebElement._execute\u001b[0;34m(self, command, params)\u001b[0m\n\u001b[1;32m    393\u001b[0m     params \u001b[38;5;241m=\u001b[39m {}\n\u001b[1;32m    394\u001b[0m params[\u001b[38;5;124m\"\u001b[39m\u001b[38;5;124mid\u001b[39m\u001b[38;5;124m\"\u001b[39m] \u001b[38;5;241m=\u001b[39m \u001b[38;5;28mself\u001b[39m\u001b[38;5;241m.\u001b[39m_id\n\u001b[0;32m--> 395\u001b[0m \u001b[38;5;28;01mreturn\u001b[39;00m \u001b[38;5;28;43mself\u001b[39;49m\u001b[38;5;241;43m.\u001b[39;49m\u001b[43m_parent\u001b[49m\u001b[38;5;241;43m.\u001b[39;49m\u001b[43mexecute\u001b[49m\u001b[43m(\u001b[49m\u001b[43mcommand\u001b[49m\u001b[43m,\u001b[49m\u001b[43m \u001b[49m\u001b[43mparams\u001b[49m\u001b[43m)\u001b[49m\n",
      "File \u001b[0;32m~/.pyenv/versions/3.12.4/lib/python3.12/site-packages/selenium/webdriver/remote/webdriver.py:354\u001b[0m, in \u001b[0;36mWebDriver.execute\u001b[0;34m(self, driver_command, params)\u001b[0m\n\u001b[1;32m    352\u001b[0m response \u001b[38;5;241m=\u001b[39m \u001b[38;5;28mself\u001b[39m\u001b[38;5;241m.\u001b[39mcommand_executor\u001b[38;5;241m.\u001b[39mexecute(driver_command, params)\n\u001b[1;32m    353\u001b[0m \u001b[38;5;28;01mif\u001b[39;00m response:\n\u001b[0;32m--> 354\u001b[0m     \u001b[38;5;28;43mself\u001b[39;49m\u001b[38;5;241;43m.\u001b[39;49m\u001b[43merror_handler\u001b[49m\u001b[38;5;241;43m.\u001b[39;49m\u001b[43mcheck_response\u001b[49m\u001b[43m(\u001b[49m\u001b[43mresponse\u001b[49m\u001b[43m)\u001b[49m\n\u001b[1;32m    355\u001b[0m     response[\u001b[38;5;124m\"\u001b[39m\u001b[38;5;124mvalue\u001b[39m\u001b[38;5;124m\"\u001b[39m] \u001b[38;5;241m=\u001b[39m \u001b[38;5;28mself\u001b[39m\u001b[38;5;241m.\u001b[39m_unwrap_value(response\u001b[38;5;241m.\u001b[39mget(\u001b[38;5;124m\"\u001b[39m\u001b[38;5;124mvalue\u001b[39m\u001b[38;5;124m\"\u001b[39m, \u001b[38;5;28;01mNone\u001b[39;00m))\n\u001b[1;32m    356\u001b[0m     \u001b[38;5;28;01mreturn\u001b[39;00m response\n",
      "File \u001b[0;32m~/.pyenv/versions/3.12.4/lib/python3.12/site-packages/selenium/webdriver/remote/errorhandler.py:229\u001b[0m, in \u001b[0;36mErrorHandler.check_response\u001b[0;34m(self, response)\u001b[0m\n\u001b[1;32m    227\u001b[0m         alert_text \u001b[38;5;241m=\u001b[39m value[\u001b[38;5;124m\"\u001b[39m\u001b[38;5;124malert\u001b[39m\u001b[38;5;124m\"\u001b[39m]\u001b[38;5;241m.\u001b[39mget(\u001b[38;5;124m\"\u001b[39m\u001b[38;5;124mtext\u001b[39m\u001b[38;5;124m\"\u001b[39m)\n\u001b[1;32m    228\u001b[0m     \u001b[38;5;28;01mraise\u001b[39;00m exception_class(message, screen, stacktrace, alert_text)  \u001b[38;5;66;03m# type: ignore[call-arg]  # mypy is not smart enough here\u001b[39;00m\n\u001b[0;32m--> 229\u001b[0m \u001b[38;5;28;01mraise\u001b[39;00m exception_class(message, screen, stacktrace)\n",
      "\u001b[0;31mElementNotInteractableException\u001b[0m: Message: element not interactable\n  (Session info: chrome=129.0.6668.100)\nStacktrace:\n0   chromedriver                        0x0000000105284500 cxxbridge1$str$ptr + 1917112\n1   chromedriver                        0x000000010527c890 cxxbridge1$str$ptr + 1885256\n2   chromedriver                        0x0000000104e8c3a8 cxxbridge1$string$len + 89024\n3   chromedriver                        0x0000000104ed1838 cxxbridge1$string$len + 372816\n4   chromedriver                        0x0000000104ec727c cxxbridge1$string$len + 330388\n5   chromedriver                        0x0000000104ec6d18 cxxbridge1$string$len + 329008\n6   chromedriver                        0x0000000104f0ab7c cxxbridge1$string$len + 607124\n7   chromedriver                        0x0000000104ec5374 cxxbridge1$string$len + 322444\n8   chromedriver                        0x0000000104ec5fc4 cxxbridge1$string$len + 325596\n9   chromedriver                        0x000000010524bd2c cxxbridge1$str$ptr + 1685732\n10  chromedriver                        0x0000000105250530 cxxbridge1$str$ptr + 1704168\n11  chromedriver                        0x0000000105230e08 cxxbridge1$str$ptr + 1575360\n12  chromedriver                        0x0000000105250e00 cxxbridge1$str$ptr + 1706424\n13  chromedriver                        0x0000000105221f94 cxxbridge1$str$ptr + 1514316\n14  chromedriver                        0x000000010526d62c cxxbridge1$str$ptr + 1823204\n15  chromedriver                        0x000000010526d7ac cxxbridge1$str$ptr + 1823588\n16  chromedriver                        0x000000010527c530 cxxbridge1$str$ptr + 1884392\n17  libsystem_pthread.dylib             0x000000019fffb2e4 _pthread_start + 136\n18  libsystem_pthread.dylib             0x000000019fff60fc thread_start + 8\n"
     ]
    }
   ],
   "source": [
    "from selenium import webdriver\n",
    "from selenium.webdriver.common.by import By\n",
    "from selenium.webdriver.chrome.service import Service\n",
    "from webdriver_manager.chrome import ChromeDriverManager\n",
    "import time\n",
    "\n",
    "# 웹드라이버 초기화\n",
    "driver = webdriver.Chrome(service=Service(ChromeDriverManager().install()))\n",
    "\n",
    "# 웹 페이지 열기\n",
    "driver.get('https://www.bigkinds.or.kr/v2/news/recentNews.do')\n",
    "\n",
    "# 페이지 로드를 기다림\n",
    "time.sleep(5)\n",
    "\n",
    "# 뉴스 제목을 찾아 클릭하고 관련 데이터 추출\n",
    "news_titles = driver.find_elements(By.CSS_SELECTOR, 'strong.title')\n",
    "for title in news_titles:\n",
    "    title.click()  # 기사 제목 클릭\n",
    "    time.sleep(3)  # 동적 컨텐츠 로딩 대기\n",
    "    \n",
    "    # 데이터 추출\n",
    "    news_title = title.text\n",
    "    date_and_reporter = driver.find_elements(By.CSS_SELECTOR, 'ul.info > li')\n",
    "    news_date = date_and_reporter[0].text if len(date_and_reporter) > 0 else '날짜 정보 없음'\n",
    "    reporter_name = date_and_reporter[1].text if len(date_and_reporter) > 1 else '기자 정보 없음'\n",
    "    news_content = driver.find_element(By.CSS_SELECTOR, 'div.news-view-body').text\n",
    "    \n",
    "\n",
    "    # 출력\n",
    "    print(f\"Title: {news_title}\")\n",
    "    print(f\"Date: {news_date}\")\n",
    "    print(f\"Reporter: {reporter_name}\")\n",
    "    print(f\"Content: {news_content}\\n\")\n",
    "\n",
    "    driver.find_element(By.CSS_SELECTOR, '.btn.btn-round.btn-wh').click()\n",
    "\n",
    "    # 다시 최신뉴스 목록으로 돌아가기\n",
    "    driver.execute_script(\"window.scrollTo(0, 0);\")\n",
    "    time.sleep(2)\n",
    "\n",
    "# 브라우저 닫기\n",
    "driver.quit()\n"
   ]
  }
 ],
 "metadata": {
  "kernelspec": {
   "display_name": "Python 3",
   "language": "python",
   "name": "python3"
  },
  "language_info": {
   "codemirror_mode": {
    "name": "ipython",
    "version": 3
   },
   "file_extension": ".py",
   "mimetype": "text/x-python",
   "name": "python",
   "nbconvert_exporter": "python",
   "pygments_lexer": "ipython3",
   "version": "3.12.4"
  }
 },
 "nbformat": 4,
 "nbformat_minor": 2
}
